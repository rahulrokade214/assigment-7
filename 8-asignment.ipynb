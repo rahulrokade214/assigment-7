{
 "cells": [
  {
   "cell_type": "markdown",
   "id": "cb70bb4e-d1bd-44e7-910b-15f2d4775cfb",
   "metadata": {},
   "source": [
    "## Q1. What is multithreading in python? hy is it used? Name the module used to handle threads in python"
   ]
  },
  {
   "cell_type": "markdown",
   "id": "11789cd7-2e90-423b-a108-6e196e469aac",
   "metadata": {},
   "source": [
    "### =>Multithreading allows concurrent execution of multiple threads within a single process, improving responsiveness and enabling parallelism. 2. Understanding the Global Interpreter Lock (GIL) in Python is crucial when working with multithreading, as it restricts true parallelism for CPU-bound tasks."
   ]
  },
  {
   "cell_type": "markdown",
   "id": "cd231ec2-b43c-4a16-ba1a-336843b3c7ce",
   "metadata": {},
   "source": [
    "## Q2.Why threading module used? rite the use of the following functions\n",
    "## 1. activeCount()\n",
    "## 2. currentThread()\n",
    "## 3. enumerate()"
   ]
  },
  {
   "cell_type": "markdown",
   "id": "56341f96-25e1-4ad1-a410-ecf9f88cdd94",
   "metadata": {},
   "source": [
    "### =>threading.activeCount() − Returns the number of thread objects that are active.threading.currentThread() − Returns the number of thread objects in the caller's thread control.threading.enumerate() − Returns a list of all thread objects that are currently active."
   ]
  },
  {
   "cell_type": "markdown",
   "id": "4b2c2d15-736a-4f4f-8927-b84abcc173c8",
   "metadata": {},
   "source": [
    "## Q3. Explain the following functions\n",
    "### 1.run()\n",
    "### 2. start()\n",
    "### 3. join()\n",
    "### 4.isAlive()"
   ]
  },
  {
   "cell_type": "markdown",
   "id": "704c5376-3c8c-4345-961a-8461928f1bee",
   "metadata": {},
   "source": [
    "### =>run():- The run() method is available in the thread class constructed using a separate Runnable object. Otherwise, this method does nothing and returns. We can call the run() method multiple times. \n",
    "### => start():- method is an inbuilt method of the Thread class of the threading module, it is used to start a thread's activity. This method calls the run() method internally which then executes the target method.\n",
    "### => join(): It will put the current thread on wait until the thread on which it is called is dead. If thread is interrupted then it will throw InterruptedException.\n",
    "### Syntax:\n",
    "### public final void join()\n",
    "### => isAlive():- The isAlive() method of thread class tests if the thread is alive. A thread is considered alive when the start() method of thread class has been called and the thread is not yet dead. This method returns true if the thread is still running and not finished."
   ]
  },
  {
   "cell_type": "markdown",
   "id": "771fc3bf-c090-4c56-a57b-e4bc2d9fa05c",
   "metadata": {},
   "source": [
    "## Q4.Wite a python program to create two threads. Thread one must print the list of squares and thread two must print the list of cubes"
   ]
  },
  {
   "cell_type": "code",
   "execution_count": null,
   "id": "075b44da-e797-46a3-a68d-d488826f7fd2",
   "metadata": {},
   "outputs": [],
   "source": [
    "import threading\n",
    "\n",
    "\n",
    "def print_cube(num):\n",
    "\tprint(\"Cube: {}\" .format(num * num * num))\n",
    "\n",
    "\n",
    "def print_square(num):\n",
    "\tprint(\"Square: {}\" .format(num * num))\n",
    "\n",
    "\n",
    "if __name__ ==\"__main__\":\n",
    "\tt1 = threading.Thread(target=print_square, args=(10,))\n",
    "\tt2 = threading.Thread(target=print_cube, args=(10,))\n",
    "\n",
    "\tt1.start()\n",
    "\tt2.start()\n",
    "\n",
    "\tt1.join()\n",
    "\tt2.join()\n",
    "\n",
    "\tprint(\"Done!\")\n"
   ]
  },
  {
   "cell_type": "markdown",
   "id": "28d62368-dd37-4d7e-a398-b4de5c54f4c6",
   "metadata": {},
   "source": [
    "## Q5.State advantages and disadvantages of multithreading"
   ]
  },
  {
   "cell_type": "code",
   "execution_count": null,
   "id": "340d5d85-fd23-4f04-bf0b-ec74292c7be5",
   "metadata": {},
   "outputs": [],
   "source": [
    "## Advantages:\n",
    "\n",
    "### Improved performance: Multithreading can help increase the overall performance of an application, especially on systems with multiple processors or cores. It allows multiple tasks to run concurrently, utilizing the available CPU resources more efficiently.\n",
    "\n",
    "### Responsiveness: In a single-threaded environment, if a long-running task blocks the main thread, the entire application becomes unresponsive. Multithreading can prevent this issue by running such tasks in separate threads, ensuring the application remains responsive.\n",
    "\n",
    "### Better resource utilization: Multithreading allows better utilization of system resources by keeping the CPU busy while waiting for I/O operations or other tasks to complete.\n",
    "\n",
    "### Simplified modeling: Some problems can be more naturally modeled using multiple threads. This makes the program easier to design, understand, and maintain.\n",
    "\n",
    "### Parallelism: Multithreading enables parallelism, which can lead to significant performance improvements in applications that can be divided into smaller, independent tasks.\n",
    "\n",
    "## Disadvantages:\n",
    "\n",
    "### Complexity: Multithreading adds complexity to the program, making it more difficult to design, implement, and debug. Developers need to be aware of synchronization, deadlocks, race conditions, and other concurrency-related issues.\n",
    "\n",
    "### Synchronization overhead: To avoid data corruption and maintain consistency, developers must synchronize access to shared resources, which can result in additional overhead and reduced performance.\n",
    "\n",
    "### Context switching: Context switching between threads consumes CPU time and resources, which can lead to performance degradation if not managed efficiently.\n",
    "\n",
    "### Hard to predict behavior: Due to the concurrent nature of multithreading, the behavior of the program can be hard to predict and reproduce, especially when it comes to debugging.\n",
    "\n",
    "### Limited by hardware: The performance benefits of multithreading are limited by the number of available cores or processors in the system. In some cases, excessive use of threads can lead to performance degradation instead of improvement.\n",
    "\n",
    "# Also, Read – SailPoin"
   ]
  },
  {
   "cell_type": "markdown",
   "id": "7aa6480f-8051-4386-ab60-eaed21e4ddb3",
   "metadata": {},
   "source": [
    "## Q6. Explain deadlocks and race conditions."
   ]
  },
  {
   "cell_type": "code",
   "execution_count": null,
   "id": "d7eff116-9a33-45c1-938a-36a284f1bc4e",
   "metadata": {},
   "outputs": [],
   "source": []
  }
 ],
 "metadata": {
  "kernelspec": {
   "display_name": "Python 3 (ipykernel)",
   "language": "python",
   "name": "python3"
  },
  "language_info": {
   "codemirror_mode": {
    "name": "ipython",
    "version": 3
   },
   "file_extension": ".py",
   "mimetype": "text/x-python",
   "name": "python",
   "nbconvert_exporter": "python",
   "pygments_lexer": "ipython3",
   "version": "3.10.8"
  }
 },
 "nbformat": 4,
 "nbformat_minor": 5
}
